{
 "cells": [
  {
   "cell_type": "code",
   "execution_count": 3,
   "metadata": {},
   "outputs": [
    {
     "data": {
      "text/plain": [
       "'f:\\\\python_project\\\\Flask_web\\\\fc_flask_tutorial\\\\01_basick_flask'"
      ]
     },
     "execution_count": 3,
     "metadata": {},
     "output_type": "execute_result"
    }
   ],
   "source": [
    "import os\n",
    "basedir = os.path.abspath(os.path.dirname('app.py'))\n",
    "basedir"
   ]
  }
 ],
 "metadata": {
  "kernelspec": {
   "display_name": "fc-venv",
   "language": "python",
   "name": "python3"
  },
  "language_info": {
   "codemirror_mode": {
    "name": "ipython",
    "version": 3
   },
   "file_extension": ".py",
   "mimetype": "text/x-python",
   "name": "python",
   "nbconvert_exporter": "python",
   "pygments_lexer": "ipython3",
   "version": "3.10.8"
  },
  "orig_nbformat": 4,
  "vscode": {
   "interpreter": {
    "hash": "f5770d8505fa3b99e28b41eb52fe461be2332726f8fb9dcfbd77c03bdc8d1326"
   }
  }
 },
 "nbformat": 4,
 "nbformat_minor": 2
}
